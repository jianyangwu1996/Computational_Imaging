{
 "cells": [
  {
   "cell_type": "code",
   "execution_count": null,
   "metadata": {
    "collapsed": true
   },
   "outputs": [],
   "source": [
    "import matplotlib.pyplot as plt\n",
    "import numpy as np\n",
    "import skimage.data as skdata\n",
    "from project.algorithms.simulation import dummy_object, ptychogram, mesh, illumination_beam\n",
    "from project.algorithms.utils import circ_aperture, normalize, nrmse, ft, ift, corr\n",
    "from project.algorithms.reconstruction import update_obj, update_probe, TransRefinement\n",
    "import random"
   ]
  },
  {
   "cell_type": "code",
   "execution_count": null,
   "outputs": [],
   "source": [
    "# Turn off for white background/jupyter notebook\n",
    "background_dark = True\n",
    "if background_dark:\n",
    "    plt.style.use('dark_background')"
   ],
   "metadata": {
    "collapsed": false
   }
  },
  {
   "cell_type": "code",
   "execution_count": null,
   "outputs": [],
   "source": [
    "\"ground truth\"\n",
    "intensity = np.array(plt.imread('lena.tif'))\n",
    "phase = skdata.camera()\n",
    "obj = dummy_object(intensity=intensity, phase=phase, output_shape=(256, 256))\n",
    "box_shape = (161, 161)   # the size of reconstruction box\n",
    "r = 0.5\n",
    "illumination = illumination_beam(box_shape, beam_radius=r)\n",
    "illumination = normalize(illumination)"
   ],
   "metadata": {
    "collapsed": false
   }
  },
  {
   "cell_type": "code",
   "execution_count": null,
   "outputs": [],
   "source": [
    "fig, axes = plt.subplots(1, 4, figsize=(12, 3))\n",
    "axes[0].imshow(np.abs(obj), cmap='gray')\n",
    "axes[0].set_title('intensity of object')\n",
    "axes[1].imshow(np.angle(obj), cmap='rainbow')\n",
    "axes[1].set_title('phase of object')\n",
    "axes[2].imshow(np.abs(illumination), cmap='gray')\n",
    "axes[2].set_title('intensity of illumination')\n",
    "axes[3].imshow(np.angle(illumination), cmap='rainbow')\n",
    "axes[3].set_title('phase of illumination')\n",
    "plt.tight_layout()"
   ],
   "metadata": {
    "collapsed": false
   }
  },
  {
   "cell_type": "code",
   "execution_count": null,
   "outputs": [],
   "source": [
    "\"positions and ptychogram\"\n",
    "positions = mesh((256, 256), 40, 0.9, 7, error=3)\n",
    "patterns = []\n",
    "for position in positions:\n",
    "    pattern = ptychogram(obj, illumination, position)\n",
    "    patterns.append(pattern)"
   ],
   "metadata": {
    "collapsed": false
   }
  },
  {
   "cell_type": "code",
   "execution_count": null,
   "outputs": [],
   "source": [
    "\"initial guess positions\"\n",
    "guess_positions = np.array([[0, 0]]*len(positions)) + obj.shape[0]//2\n",
    "ini_guess = guess_positions.copy()"
   ],
   "metadata": {
    "collapsed": false
   }
  },
  {
   "cell_type": "code",
   "execution_count": null,
   "outputs": [],
   "source": [
    "\"initial estimation and parameter\"\n",
    "guess_probe = circ_aperture(box_shape, radius=0.4).astype('complex')\n",
    "guess_obj = np.ones(obj.shape, dtype=\"complex\")\n",
    "beta = [2000] * 2\n",
    "a, b = 1., 1."
   ],
   "metadata": {
    "collapsed": false
   }
  },
  {
   "cell_type": "code",
   "execution_count": null,
   "outputs": [],
   "source": [
    "\"outputs\"\n",
    "loss, mpe = [], []\n",
    "bx, by = [], []"
   ],
   "metadata": {
    "collapsed": false
   }
  },
  {
   "cell_type": "code",
   "execution_count": null,
   "outputs": [],
   "source": [
    "\"reconstruction\"\n",
    "(K, L) = guess_probe.shape\n",
    "obj_pad = np.pad(guess_obj, ((K // 2, K // 2), (L // 2, L // 2)))\n",
    "position_errors = np.zeros((len(positions), 2, 2))\n",
    "\n",
    "for n in range(300):\n",
    "    loss_vals = []\n",
    "    index = random.sample(range(0, len(positions)), len(positions))\n",
    "    position_errors[:, :, 0] = position_errors[:, :, 1].copy()\n",
    "    for i in index:\n",
    "        x = guess_positions[i][1]\n",
    "        y = guess_positions[i][0]\n",
    "        pattern = patterns[i]\n",
    "        obj_scanned = obj_pad[y:y + K, x:x + L]\n",
    "\n",
    "        \"revise the wave function in diffraction plane\"\n",
    "        psi = obj_scanned * guess_probe\n",
    "        Psi = ft(psi)\n",
    "        phase_Psi = np.exp(1j * np.angle(Psi))\n",
    "        Psi_corrected = np.sqrt(pattern) * phase_Psi\n",
    "        psi_corrected = ift(Psi_corrected)\n",
    "\n",
    "        \"update the object and probe functions\"\n",
    "        diff_psi = psi_corrected - psi\n",
    "        temp_obj = obj_scanned.copy()\n",
    "        obj_scanned = update_obj(obj_scanned, guess_probe, diff_psi, learning_rate=a)\n",
    "        obj_pad[y:y + K, x:x + L] = obj_scanned\n",
    "        guess_probe = update_probe(guess_probe, temp_obj, diff_psi, learning_rate=b)\n",
    "\n",
    "        \"NRMSE\"\n",
    "        loss_vals.append(nrmse(np.abs(Psi), pattern))\n",
    "\n",
    "        \"position correction\"\n",
    "        if n >= 3:\n",
    "            mask = guess_probe > 0.1\n",
    "            syj, sxj = TransRefinement(obj_scanned, temp_obj, integer_skip=False)\n",
    "            dy, dx = round(syj * beta[0]), round(sxj * beta[1])\n",
    "            y += dy\n",
    "            x += dx\n",
    "\n",
    "            if y < 0:\n",
    "                y = 1\n",
    "            elif y >= guess_obj.shape[0]:\n",
    "                y = guess_obj.shape[0] - 1\n",
    "            if x < 0:\n",
    "                x = 1\n",
    "            elif x >= guess_obj.shape[1]:\n",
    "                x = guess_obj.shape[1] - 1\n",
    "            guess_positions[i] = np.array([y, x])\n",
    "            position_errors[i, :, 1] = np.array([syj, sxj])\n",
    "\n",
    "    \"update beta\"\n",
    "    if n >= 5:\n",
    "        ky = corr(position_errors[:, 0, 0], position_errors[:, 0, 1])\n",
    "        kx = corr(position_errors[:, 1, 0], position_errors[:, 1, 1])\n",
    "\n",
    "        if ky >= 0.5:\n",
    "            beta[0] = int(beta[0] * 1.1)\n",
    "        elif ky <= -0.5:\n",
    "            beta[0] = int(beta[0] * 0.9)\n",
    "        if kx >= 0.5:\n",
    "            beta[1] = int(beta[1] * 1.1)\n",
    "        elif kx <= -0.5:\n",
    "            beta[1] = int(beta[1] * 0.9)\n",
    "    bx.append(beta[1])\n",
    "    by.append(beta[0])\n",
    "\n",
    "    if (n + 1) > (n_IPs + 50):\n",
    "        n_IPs = n\n",
    "        IPs_index = np.where(loss_vals > (min(loss_vals) + 0.1))\n",
    "        IPs = np.array(guess_positions)[IPs_index]\n",
    "        CPs_index = np.where(loss_vals <= (min(loss_vals) + 0.1))\n",
    "        CPs = np.array(guess_positions)[CPs_index]\n",
    "\n",
    "        intensity_IPs = np.array(patterns)[IPs_index]\n",
    "        intensity_CPs = np.array(patterns)[CPs_index]\n",
    "\n",
    "        for i, iip in zip(IPs_index)\n",
    "\n",
    "\n",
    "    pe = guess_positions - np.array(positions)  # position errors\n",
    "    pe = np.sum(np.sqrt(pe[:, 0] ** 2 + pe[:, 1] ** 2)) / 49\n",
    "    mpe.append(pe)\n",
    "    loss.append(np.mean(loss_vals))\n",
    "\n",
    "    guess_obj = obj_pad[K // 2:-K // 2 + 1, L // 2:-L // 2 + 1]\n"
   ],
   "metadata": {
    "collapsed": false
   }
  }
 ],
 "metadata": {
  "kernelspec": {
   "display_name": "Python 3",
   "language": "python",
   "name": "python3"
  },
  "language_info": {
   "codemirror_mode": {
    "name": "ipython",
    "version": 2
   },
   "file_extension": ".py",
   "mimetype": "text/x-python",
   "name": "python",
   "nbconvert_exporter": "python",
   "pygments_lexer": "ipython2",
   "version": "2.7.6"
  }
 },
 "nbformat": 4,
 "nbformat_minor": 0
}
